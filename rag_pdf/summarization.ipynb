{
 "cells": [
  {
   "cell_type": "code",
   "execution_count": 4,
   "metadata": {},
   "outputs": [],
   "source": [
    "import pandas as pd\n",
    "from langchain import PromptTemplate\n",
    "from langchain.chains.summarize import load_summarize_chain\n",
    "from langchain.document_loaders import PyPDFLoader\n",
    "from langchain_community.llms import Ollama\n",
    "\n",
    "# credits to this code : https://colab.research.google.com/github/GoogleCloudPlatform/generative-ai/blob/main/language/use-cases/document-summarization/summarization_large_documents_langchain.ipynb"
   ]
  },
  {
   "cell_type": "code",
   "execution_count": null,
   "metadata": {},
   "outputs": [],
   "source": [
    "llm = Ollama(model=\"llama2\")"
   ]
  },
  {
   "cell_type": "markdown",
   "metadata": {},
   "source": [
    "# Load the PDF"
   ]
  },
  {
   "cell_type": "code",
   "execution_count": 2,
   "metadata": {},
   "outputs": [
    {
     "name": "stdout",
     "output_type": "stream",
     "text": [
      "Our main GPS results show that the strong partisan differences in social distancing behavior\n",
      "that emerged with the rise of COVID-19 are not merely an artifact of differences in public policies\n",
      "or observed risks. Controlling for state-time ﬁxed effects to account for heterogenous policy re-\n",
      "sponses by state governments only attenuates the partisan gap slightly. Including controls to proxy\n",
      "for local policy, health, weather, and economic variables interacted ﬂexibly with time attenuates\n",
      "the gap more substantially, but it remains statistically and economically signiﬁcant. After including\n",
      "our full set of controls, we estimate that moving from the 10th to the 90th percentile of Republican\n",
      "county vote share is associated with 11.5 and 15.2 percent increases in the number of POI visits\n",
      "during the weeks of April 6 and May 11, when social distancing and partisan gaps are at their\n",
      "respective peaks.\n",
      "Our ﬁndings are robust to the inclusion or exclusion of control variables, excluding states with\n",
      "early COVID-19 outbreaks, or dropping highly populated counties. Replacing the continuous mea-\n",
      "sure of partisanship with discrete indicators for portions of the Republican vote share distribution\n",
      "or restricting the sample to counties from certain portions of the distribution does not change our\n",
      "qualitative conclusions. Furthermore, there is no evidence of a similar partisan gap during the\n",
      "same period in 2019 conditional on the same set of controls. We ﬁnd similar evidence of a partisan\n",
      "gap at the voting precinct level, but focus on county-level analyses due to limitations facing the\n",
      "precinct speciﬁcation (see footnote 14).\n",
      "To complement the data showing county-level differences in behavior, we use a nationally-\n",
      "representative survey to show that individual behavior and beliefs about social distancing are par-\n",
      "tisan. We collect participants’ demographics (including party afﬁliation), beliefs regarding the\n",
      "efﬁcacy of social distancing, self-reported distancing due to COVID-19, and predictions about fu-\n",
      "ture COVID-19 cases. Compared to Republicans, we ﬁnd that Democrats believe the pandemic is\n",
      "more severe and report a greater reduction in contact with others. In our survey, we also randomly\n",
      "vary whether predictions about future COVID-19 cases are incentivized. We do not ﬁnd evidence\n",
      "that incentives reduce the partisan gap, suggesting that these predictions are less likely to be due\n",
      "to partisan cheerleading (as in Bullock et al. 2015 and Prior et al. 2015) and more likely to reﬂect\n",
      "true differences in beliefs. These partisan gaps in survey responses emerge even when comparing\n",
      "respondents within the same county.\n",
      "A number of contemporaneous studies also measure partisan differences in responses to COVID-\n",
      "19.1Gadarian et al. (2020), Makridis and Rothwell (2020), and Wu and Huber (2020) show that\n",
      "1Coverage in the media and some studies examine partisan heterogeneity in response to COVID-19 with no or few\n",
      "3\n"
     ]
    }
   ],
   "source": [
    "pdf_loader = PyPDFLoader(\"../pdf_data/allcott.pdf\")\n",
    "pages = pdf_loader.load_and_split()\n",
    "print(pages[3].page_content)"
   ]
  },
  {
   "cell_type": "markdown",
   "metadata": {},
   "source": [
    "# First method : Stuffing (i.e. considering the PDF in a single call)"
   ]
  },
  {
   "cell_type": "code",
   "execution_count": 3,
   "metadata": {},
   "outputs": [],
   "source": [
    "prompt_template = \"\"\"Write a concise summary of the following text delimited by triple backquotes.\n",
    "              Return your response in bullet points which covers the key points of the text.\n",
    "              ```{text}```\n",
    "              BULLET POINT SUMMARY:\n",
    "  \"\"\"\n",
    "\n",
    "prompt = PromptTemplate(template=prompt_template, input_variables=[\"text\"])"
   ]
  },
  {
   "cell_type": "code",
   "execution_count": 6,
   "metadata": {},
   "outputs": [],
   "source": [
    "stuff_chain = load_summarize_chain(llm, chain_type=\"stuff\", prompt=prompt)"
   ]
  },
  {
   "cell_type": "code",
   "execution_count": 7,
   "metadata": {},
   "outputs": [
    {
     "name": "stderr",
     "output_type": "stream",
     "text": [
      "c:\\Users\\pvanb\\AppData\\Local\\Programs\\Python\\Python311\\Lib\\site-packages\\langchain_core\\_api\\deprecation.py:119: LangChainDeprecationWarning: The method `Chain.run` was deprecated in langchain 0.1.0 and will be removed in 0.2.0. Use invoke instead.\n",
      "  warn_deprecated(\n"
     ]
    },
    {
     "name": "stdout",
     "output_type": "stream",
     "text": [
      "1. The appendix includes seven figures that illustrate various aspects of the study's findings, including the effect of partisan affiliation on beliefs and actions related to COVID-19, the impact of incentives on beliefs and actions, and the relationship between news consumption and partisan affiliation.\n",
      "2. The figures show that:\n",
      "\t* Beliefs and actions related to COVID-19 are influenced by partisanship, with Republicans being less concerned about COVID-19 than Democrats.\n",
      "\t* Incentives can affect beliefs and actions related to COVID-19, with incentivized subjects more likely to report engaging in social distancing behaviors than unincentivized subjects.\n",
      "\t* News consumption is associated with partisan affiliation, with Republicans being more likely to consume news from sources that are favorable to their party than Democrats.\n",
      "3. The study used a survey of over 1,000 Americans to collect data on beliefs and actions related to COVID-19, as well as demographic information and news consumption patterns.\n",
      "4. The findings suggest that partisanship and news consumption can have a significant impact on beliefs and actions related to COVID-19, and that incentives may be effective in influencing these behaviors.\n",
      "5. The study contributes to our understanding of the factors that influence public health behaviors during pandemics, and highlights the importance of considering partisanship and news consumption when designing interventions to promote public health behaviors.\n"
     ]
    }
   ],
   "source": [
    "try:\n",
    "    print(stuff_chain.run(pages))\n",
    "except Exception as e:\n",
    "    print(\n",
    "        \"The code failed since it won't be able to run inference on such a huge context and throws this exception: \",\n",
    "        e,\n",
    "    )"
   ]
  },
  {
   "cell_type": "markdown",
   "metadata": {},
   "source": [
    "# Second method : Map-reduce (small chunks that are passed to the LLM one by one)"
   ]
  },
  {
   "cell_type": "code",
   "execution_count": 8,
   "metadata": {},
   "outputs": [],
   "source": [
    "map_prompt_template = \"\"\"\n",
    "                      Write a summary of this chunk of text that includes the main points and any important details.\n",
    "                      {text}\n",
    "                      \"\"\"\n",
    "\n",
    "map_prompt = PromptTemplate(template=map_prompt_template, input_variables=[\"text\"])\n",
    "\n",
    "combine_prompt_template = \"\"\"\n",
    "                      Write a concise summary of the following text delimited by triple backquotes.\n",
    "                      Return your response in bullet points which covers the key points of the text.\n",
    "                      ```{text}```\n",
    "                      BULLET POINT SUMMARY:\n",
    "                      \"\"\"\n",
    "\n",
    "combine_prompt = PromptTemplate(\n",
    "    template=combine_prompt_template, input_variables=[\"text\"]\n",
    ")"
   ]
  },
  {
   "cell_type": "code",
   "execution_count": 9,
   "metadata": {},
   "outputs": [],
   "source": [
    "map_reduce_chain = load_summarize_chain(\n",
    "    llm,\n",
    "    chain_type=\"map_reduce\",\n",
    "    map_prompt=map_prompt,\n",
    "    combine_prompt=combine_prompt,\n",
    "    return_intermediate_steps=True,\n",
    ")"
   ]
  },
  {
   "cell_type": "code",
   "execution_count": 10,
   "metadata": {},
   "outputs": [
    {
     "name": "stderr",
     "output_type": "stream",
     "text": [
      "c:\\Users\\pvanb\\AppData\\Local\\Programs\\Python\\Python311\\Lib\\site-packages\\langchain_core\\_api\\deprecation.py:119: LangChainDeprecationWarning: The method `Chain.__call__` was deprecated in langchain 0.1.0 and will be removed in 0.2.0. Use invoke instead.\n",
      "  warn_deprecated(\n"
     ]
    }
   ],
   "source": [
    "map_reduce_outputs = map_reduce_chain({\"input_documents\": pages})"
   ]
  }
 ],
 "metadata": {
  "kernelspec": {
   "display_name": "Python 3",
   "language": "python",
   "name": "python3"
  },
  "language_info": {
   "codemirror_mode": {
    "name": "ipython",
    "version": 3
   },
   "file_extension": ".py",
   "mimetype": "text/x-python",
   "name": "python",
   "nbconvert_exporter": "python",
   "pygments_lexer": "ipython3",
   "version": "3.11.3"
  }
 },
 "nbformat": 4,
 "nbformat_minor": 2
}
